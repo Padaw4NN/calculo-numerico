{
 "cells": [
  {
   "cell_type": "code",
   "execution_count": 1,
   "metadata": {},
   "outputs": [],
   "source": [
    "def gaussSeidel(A, b, s, its):\n",
    "    \"\"\"\n",
    "    A:   Matrix\n",
    "    b:   Vetor\n",
    "    s:   Vetor solução inicial\n",
    "    its: Número de iterações\n",
    "    \"\"\"\n",
    "    n = len(A)\n",
    "    it = 0\n",
    "    while it < its:\n",
    "        for i in range(n):\n",
    "            x = b[i]\n",
    "            for j in range(n):\n",
    "                if i != j:\n",
    "                    x -= A[i][j] * s[j]\n",
    "            x /= A[i][i]\n",
    "            s[i] = x\n",
    "        it += 1\n",
    "    return s\n"
   ]
  },
  {
   "cell_type": "code",
   "execution_count": 2,
   "metadata": {},
   "outputs": [],
   "source": [
    "A = [[20, -10, -4],\n",
    "     [-10, 25, -5],\n",
    "     [-4,  -5, 20]]\n",
    "\n",
    "b = [26, 0, 7]\n",
    "\n",
    "s = [4, 2, 3]"
   ]
  },
  {
   "cell_type": "code",
   "execution_count": 3,
   "metadata": {},
   "outputs": [],
   "source": [
    "new_s = gaussSeidel(A, b, s, its=13)"
   ]
  },
  {
   "cell_type": "code",
   "execution_count": 24,
   "metadata": {},
   "outputs": [
    {
     "name": "stdout",
     "output_type": "stream",
     "text": [
      "\n",
      "Vetor solução:\n",
      "\n",
      "i[1] = |2.0000067|\n",
      "i[2] = |1.0000039|\n",
      "i[3] = |1.0000023|\n",
      "\n",
      "Resultado linha 1 26.0000847 - Erro absoluto: |26 - 26.0000847| = 0.0000847\n",
      "Resultado linha 2 0.0000202  - Erro absoluto: |0 - 0.0000202|   = 0.0000202\n",
      "Resultado linha 3 7.0000000  - Erro absoluto: |7 - 7.0000000|   = 0.0000000\n"
     ]
    }
   ],
   "source": [
    "print(\"\\nVetor solução:\\n\")\n",
    "for i in range(len(new_s)):\n",
    "    print(f\"i[{i+1}] = |{new_s[i]:.7f}|\")\n",
    "\n",
    "res_l1 = ((20 * s[0]) - (10 * s[1]) - (4 * s[2]))\n",
    "res_l2 = ((-10) * s[0]) + (25 * s[1]) - (5 * s[2])\n",
    "res_l3 = ((-4) * s[0]) - (5 * s[1]) + (20 * s[2])\n",
    "\n",
    "print(f\"\\nResultado linha 1 {res_l1:.7f} - Erro absoluto: |{b[0]} - {res_l1:.7f}| = {abs(b[0] - res_l1):.7f}\")\n",
    "print(f\"Resultado linha 2 {res_l2:.7f}  - Erro absoluto: |{b[1]} - {res_l2:.7f}|   = {abs(b[1] - res_l2):.7f}\")\n",
    "print(f\"Resultado linha 3 {res_l3:.7f}  - Erro absoluto: |{b[2]} - {res_l3:.7f}|   = {abs(b[2] - res_l3):.7f}\")"
   ]
  },
  {
   "cell_type": "code",
   "execution_count": null,
   "metadata": {},
   "outputs": [],
   "source": []
  }
 ],
 "metadata": {
  "kernelspec": {
   "display_name": ".num-analysis",
   "language": "python",
   "name": "python3"
  },
  "language_info": {
   "codemirror_mode": {
    "name": "ipython",
    "version": 3
   },
   "file_extension": ".py",
   "mimetype": "text/x-python",
   "name": "python",
   "nbconvert_exporter": "python",
   "pygments_lexer": "ipython3",
   "version": "3.10.14"
  }
 },
 "nbformat": 4,
 "nbformat_minor": 2
}
