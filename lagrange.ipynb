{
 "cells": [
  {
   "cell_type": "code",
   "execution_count": 1,
   "metadata": {},
   "outputs": [],
   "source": [
    "def lagrange(X: list, Y: list, x: float) -> float:\n",
    "    \"\"\"\n",
    "    X: Array de valores de x\n",
    "    Y: Array de valores de y\n",
    "    x: Valor ao qual determinar entre os pontos dados\n",
    "    \"\"\"\n",
    "    n = len(X)\n",
    "    _sum = 0\n",
    "    for i in range(n):\n",
    "        _mul = 1\n",
    "        for j in range(n):\n",
    "            if j != i:\n",
    "                _mul *= (x - X[j]) / (X[i] - X[j])\n",
    "        _mul *= Y[i]\n",
    "        _sum += _mul\n",
    "    return _sum"
   ]
  },
  {
   "cell_type": "code",
   "execution_count": 2,
   "metadata": {},
   "outputs": [],
   "source": [
    "# X values\n",
    "comprimentos = [500, 1000, 1500, 2000, 2500, 3000]\n",
    "# Y Values\n",
    "resistencias = [2.74, 5.48, 7.40, 11.00, 13.93, 16.43]"
   ]
  },
  {
   "cell_type": "code",
   "execution_count": 3,
   "metadata": {},
   "outputs": [],
   "source": [
    "P = lagrange(comprimentos, resistencias, x=1650)"
   ]
  },
  {
   "cell_type": "code",
   "execution_count": 4,
   "metadata": {},
   "outputs": [
    {
     "name": "stdout",
     "output_type": "stream",
     "text": [
      "\n",
      "P[n=6](1650) = 8.3829188(ohms)\n"
     ]
    }
   ],
   "source": [
    "print(f\"\\nP[n=6](1650) = {P:.7f}(ohms)\")"
   ]
  },
  {
   "cell_type": "code",
   "execution_count": null,
   "metadata": {},
   "outputs": [],
   "source": []
  }
 ],
 "metadata": {
  "kernelspec": {
   "display_name": ".num-analysis",
   "language": "python",
   "name": "python3"
  },
  "language_info": {
   "codemirror_mode": {
    "name": "ipython",
    "version": 3
   },
   "file_extension": ".py",
   "mimetype": "text/x-python",
   "name": "python",
   "nbconvert_exporter": "python",
   "pygments_lexer": "ipython3",
   "version": "3.10.14"
  }
 },
 "nbformat": 4,
 "nbformat_minor": 2
}
