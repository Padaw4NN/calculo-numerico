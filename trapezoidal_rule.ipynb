{
 "cells": [
  {
   "cell_type": "markdown",
   "metadata": {},
   "source": [
    "#### `Bibliotecas`"
   ]
  },
  {
   "cell_type": "code",
   "execution_count": 1,
   "metadata": {},
   "outputs": [],
   "source": [
    "import math\n",
    "import matplotlib.pyplot as plt"
   ]
  },
  {
   "cell_type": "markdown",
   "metadata": {},
   "source": [
    "#### 1. Implementação da Regra Composta dos Trapézios & Função de Erro"
   ]
  },
  {
   "cell_type": "code",
   "execution_count": 2,
   "metadata": {},
   "outputs": [],
   "source": [
    "def trapezoidal_rule_compound(f, a: float, b: float, n: int) -> float:\n",
    "    \"\"\"\n",
    "    f: Função\n",
    "    a: Limite inferior\n",
    "    b: Limite superior\n",
    "    n: Número de subintervalos\n",
    "\n",
    "    return: Valor aproximado da integral desejada\n",
    "    \"\"\"\n",
    "    # Cálculo do h\n",
    "    h = (b - a) / n\n",
    "    # Inicialização da integral\n",
    "    integral = f(a) + f(b)\n",
    "    # Soma nos pontos intermediários\n",
    "    for i in range(1, n, 1):\n",
    "        xi = a + i * h\n",
    "        integral += 2 * f(xi)\n",
    "    integral *= h / 2\n",
    "    return integral"
   ]
  },
  {
   "cell_type": "code",
   "execution_count": 3,
   "metadata": {},
   "outputs": [],
   "source": [
    "def calculate_n(a: float, b: float, max_f_double_prime: float, error_max: float = 1e-3) -> int:\n",
    "    \"\"\"\n",
    "    a: Limite inferior\n",
    "    b: Limite superior\n",
    "    max_f_double_prime: Valor máximo da segunda derivada de f no intervalo [a, b]\n",
    "    error_max: Erro máximo -- padrão: 0.0001\n",
    "\n",
    "    return: Valor de `n` subintervalos com arredondamento para cima\n",
    "    \"\"\"\n",
    "    # Seguindo a fórmula:\n",
    "    # n >= raíz( (b-a)^3 . max|f''(x)| ) / (12)error \n",
    "    n = math.sqrt( ((b - a)**3 * max_f_double_prime) / (12 * error_max) )\n",
    "    return math.ceil(n)"
   ]
  },
  {
   "cell_type": "markdown",
   "metadata": {},
   "source": [
    "#### 1.2 Aplicação"
   ]
  },
  {
   "cell_type": "code",
   "execution_count": 4,
   "metadata": {},
   "outputs": [
    {
     "name": "stdout",
     "output_type": "stream",
     "text": [
      "[*] SOLUÇÃO:\n",
      "\n",
      "Número de subintervalos:\n",
      "n = 7\n",
      "\n",
      "A integral numérica de f(x) = 1/x é:\n",
      "I aproximadamente: 0.18234\n"
     ]
    }
   ],
   "source": [
    "# Função\n",
    "f = lambda x: 1.0 / x\n",
    "\n",
    "# Limites inferior e superior\n",
    "a = 3.0\n",
    "b = 3.6\n",
    "\n",
    "# Erro máximo\n",
    "error_max = 1e-3  # 0.0001 -- Não necessário, pois na função já está padrão\n",
    "\n",
    "# Cálculo do número de subintervalos\n",
    "n = calculate_n(a=a, b=b, max_f_double_prime=2, error_max=error_max)\n",
    "# Cálculo da integral numérica\n",
    "I = trapezoidal_rule_compound(f=f, a=a, b=b, n=n)\n",
    "\n",
    "# ---- Resultados ----\n",
    "# Arredondamento para 5 casas\n",
    "I = round(I, 5)\n",
    "\n",
    "print(\"[*] SOLUÇÃO:\")\n",
    "print(\"\\nNúmero de subintervalos:\")\n",
    "print(f\"n = {n}\")\n",
    "\n",
    "print(\"\\nA integral numérica de f(x) = 1/x é:\")\n",
    "print(f\"I aproximadamente: {I}\")"
   ]
  },
  {
   "cell_type": "markdown",
   "metadata": {},
   "source": [
    "#### 2. Implementação da Regra dos Trapézios"
   ]
  },
  {
   "cell_type": "code",
   "execution_count": 5,
   "metadata": {},
   "outputs": [],
   "source": [
    "def trapezoidal_rule(X: list, Y: list) -> float:\n",
    "    \"\"\"\n",
    "    X: Lista com os valores de x\n",
    "    Y: Lista com os valores de y\n",
    "\n",
    "    return: Valor aproximado da integração numérica\n",
    "    utilizando a Regra dos Trapézios\n",
    "    \"\"\"\n",
    "    assert len(X) == len(Y)\n",
    "    # Adquirir o valor de `n` através da quantidade de dados\n",
    "    n = len(X) - 1\n",
    "    # Calculo da integral numérica\n",
    "    integral = 0.0\n",
    "    for i in range(n):\n",
    "        h = X[i+1] - X[i]\n",
    "        integral += (Y[i] + Y[i+1]) * h / 2\n",
    "    return integral"
   ]
  },
  {
   "cell_type": "markdown",
   "metadata": {},
   "source": [
    "#### 2.1 Aplicação"
   ]
  },
  {
   "cell_type": "code",
   "execution_count": 6,
   "metadata": {},
   "outputs": [
    {
     "data": {
      "image/png": "[encoded data removed]",
      "text/plain": [
       "<Figure size 500x400 with 1 Axes>"
      ]
     },
     "metadata": {},
     "output_type": "display_data"
    },
    {
     "name": "stdout",
     "output_type": "stream",
     "text": [
      "[*] SOLUÇÃO:\n",
      "\n",
      "Através dos dados fornecidos de Tempo e Velocidade:\n",
      "O valor aproximado da Disância (d) foi de 780.9 km\n"
     ]
    }
   ],
   "source": [
    "# Tempos\n",
    "X = [0, 1, 2, 3, 4, 5, 6, 7, 8, 9, 10]\n",
    "# Velocidades\n",
    "Y = [0, 50.4, 53.7, 67.5, 74.3, 84.6, 92.1, 98.3, 100, 105, 110]\n",
    "\n",
    "# Visualização dos dados\n",
    "plt.figure(figsize=(5, 4))\n",
    "plt.plot(X, Y)\n",
    "plt.grid(True)\n",
    "plt.title(\"Tempo (h) x Velocidade (km/h)\")\n",
    "plt.xlabel(\"Tempo (h)\")\n",
    "plt.ylabel(\"Velocidade (km/h)\")\n",
    "plt.show()\n",
    "\n",
    "# Calculo da distância utilizando a Regra dos Trapézios\n",
    "d = trapezoidal_rule(X=X, Y=Y)\n",
    "\n",
    "# Resultados\n",
    "print(\"[*] SOLUÇÃO:\")\n",
    "print(\"\\nAtravés dos dados fornecidos de Tempo e Velocidade:\")\n",
    "print(f\"O valor aproximado da Disância (d) foi de {d} km\")"
   ]
  },
  {
   "cell_type": "code",
   "execution_count": null,
   "metadata": {},
   "outputs": [],
   "source": []
  }
 ],
 "metadata": {
  "kernelspec": {
   "display_name": ".num-analysis",
   "language": "python",
   "name": "python3"
  },
  "language_info": {
   "codemirror_mode": {
    "name": "ipython",
    "version": 3
   },
   "file_extension": ".py",
   "mimetype": "text/x-python",
   "name": "python",
   "nbconvert_exporter": "python",
   "pygments_lexer": "ipython3",
   "version": "3.10.15"
  }
 },
 "nbformat": 4,
 "nbformat_minor": 2
}
